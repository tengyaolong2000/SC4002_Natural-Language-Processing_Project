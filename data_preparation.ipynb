{
 "cells": [
  {
   "cell_type": "code",
   "execution_count": 56,
   "metadata": {},
   "outputs": [],
   "source": [
    "import torch\n",
    "import torch.nn as nn\n",
    "import torch.optim as optim\n",
    "from datasets import load_dataset\n",
    "from torch.utils.data import DataLoader, Dataset\n",
    "from collections import Counter\n",
    "import numpy as np\n",
    "import re\n",
    "from torch.nn.utils.rnn import pad_sequence\n",
    "import matplotlib.pyplot as plt  # Added for plotting\n",
    "from nltk.stem import WordNetLemmatizer\n",
    "import optuna"
   ]
  },
  {
   "cell_type": "code",
   "execution_count": 51,
   "metadata": {},
   "outputs": [
    {
     "name": "stdout",
     "output_type": "stream",
     "text": [
      "{'text': 'the rock is destined to be the 21st century\\'s new \" conan \" and that he\\'s going to make a splash even greater than arnold schwarzenegger , jean-claud van damme or steven segal .', 'label': 1}\n"
     ]
    }
   ],
   "source": [
    "# Load the dataset\n",
    "dataset = load_dataset(\"rotten_tomatoes\")\n",
    "train_dataset = dataset['train']\n",
    "validation_dataset = dataset['validation']\n",
    "test_dataset = dataset['test']\n",
    "\n",
    "print(train_dataset[0])"
   ]
  },
  {
   "cell_type": "markdown",
   "metadata": {},
   "source": [
    "## a)"
   ]
  },
  {
   "cell_type": "code",
   "execution_count": 52,
   "metadata": {},
   "outputs": [
    {
     "name": "stdout",
     "output_type": "stream",
     "text": [
      "Size of the vocabulary: 18207\n"
     ]
    }
   ],
   "source": [
    "\n",
    "# Define a simple tokenizer\n",
    "def tokenizer(text):\n",
    "    text = text.lower()\n",
    "    text = re.sub(r\"[^a-zA-Z0-9\\s]\", '', text)\n",
    "    tokens = text.strip().split()\n",
    "    return tokens\n",
    "\n",
    "# Build the vocabulary from the training data\n",
    "counter = Counter()\n",
    "for example in train_dataset:\n",
    "    tokens = tokenizer(example['text'])\n",
    "    counter.update(tokens)\n",
    "\n",
    "# Vocabulary is the set of unique words\n",
    "vocab = set(counter.keys())\n",
    "vocab_size = len(vocab)\n",
    "\n",
    "print(\"Size of the vocabulary:\", vocab_size)"
   ]
  },
  {
   "cell_type": "markdown",
   "metadata": {},
   "source": [
    "## b)"
   ]
  },
  {
   "cell_type": "code",
   "execution_count": 54,
   "metadata": {},
   "outputs": [
    {
     "name": "stdout",
     "output_type": "stream",
     "text": [
      "Number of OOV words: 2468\n"
     ]
    }
   ],
   "source": [
    "# Load GloVe embeddings\n",
    "glove_vocab = set()\n",
    "\n",
    "glove_file = 'glove_files/glove.6B/glove.6B.100d.txt' \n",
    "\n",
    "with open(glove_file, 'r', encoding='utf8') as f:\n",
    "    for line in f:\n",
    "        word = line.split()[0]\n",
    "        glove_vocab.add(word)\n",
    "\n",
    "# Find OOV words\n",
    "oov_words = vocab - glove_vocab\n",
    "num_oov = len(oov_words)\n",
    "\n",
    "print(\"Number of OOV words:\", num_oov)\n"
   ]
  },
  {
   "cell_type": "markdown",
   "metadata": {},
   "source": [
    "c)"
   ]
  },
  {
   "cell_type": "code",
   "execution_count": 55,
   "metadata": {},
   "outputs": [
    {
     "name": "stdout",
     "output_type": "stream",
     "text": [
      "count resolved: 15739 coumt unresolved: 2470\n"
     ]
    }
   ],
   "source": [
    "\n",
    "# Create word-to-index and index-to-word mappings\n",
    "vocab = {'<pad>': 0, '<unk>': 1}\n",
    "index = 2\n",
    "for word, freq in counter.items():\n",
    "    vocab[word] = index\n",
    "    index += 1\n",
    "\n",
    "idx2word = {idx: word for word, idx in vocab.items()}\n",
    "\n",
    "# Load GloVe embeddings\n",
    "def load_glove_embeddings(glove_file_path):\n",
    "    embeddings_index = {}\n",
    "    with open(glove_file_path, 'r', encoding='utf-8') as f:\n",
    "        for line in f:\n",
    "            values = line.strip().split()\n",
    "            word = values[0]\n",
    "            coefs = np.asarray(values[1:], dtype='float32')\n",
    "            embeddings_index[word] = coefs\n",
    "    return embeddings_index\n",
    "\n",
    "embedding_dim = 100\n",
    "embeddings_index = load_glove_embeddings('glove_files/glove.6B/glove.6B.100d.txt')\n",
    "\n",
    "# Create the embedding matrix\n",
    "count_resolved = 0\n",
    "count_unresolved = 0\n",
    "\n",
    "# Initialize the lemmatizer\n",
    "lemmatizer = WordNetLemmatizer()\n",
    "\n",
    "vocab_size = len(vocab)\n",
    "# avg = np.mean(list(embeddings_index.values()), axis=0)\n",
    "\n",
    "embedding_matrix = np.zeros((vocab_size, embedding_dim))\n",
    "for word, idx in vocab.items():\n",
    "    if word in embeddings_index:\n",
    "        embedding_matrix[idx] = embeddings_index[word]\n",
    "        count_resolved += 1\n",
    "    else:\n",
    "        #lemmatized_word = lemmatizer.lemmatize(word)\n",
    "        #if lemmatized_word in embeddings_index:\n",
    "            #embedding_matrix[idx] = embeddings_index[lemmatized_word]\n",
    "            #count_resolved += 1\n",
    "        #else:\n",
    "        embedding_matrix[idx] = np.random.normal(scale=0.6, size=(embedding_dim,))\n",
    "        count_unresolved += 1\n",
    "print('count resolved:', count_resolved, 'count unresolved:', count_unresolved)\n",
    "\n",
    "\n"
   ]
  },
  {
   "cell_type": "markdown",
   "metadata": {},
   "source": [
    "## 2"
   ]
  },
  {
   "cell_type": "code",
   "execution_count": null,
   "metadata": {},
   "outputs": [],
   "source": []
  },
  {
   "cell_type": "code",
   "execution_count": 57,
   "metadata": {},
   "outputs": [
    {
     "name": "stdout",
     "output_type": "stream",
     "text": [
      "Epoch 1:\n",
      "    Train Loss: 0.6226, Train Acc: 0.6544\n",
      "    Val Loss: 0.5883, Val Acc: 0.7054\n",
      "Epoch 2:\n",
      "    Train Loss: 0.5834, Train Acc: 0.6987\n",
      "    Val Loss: 0.5763, Val Acc: 0.6970\n",
      "Epoch 3:\n",
      "    Train Loss: 0.5640, Train Acc: 0.7162\n",
      "    Val Loss: 0.5716, Val Acc: 0.7129\n",
      "Epoch 4:\n",
      "    Train Loss: 0.5583, Train Acc: 0.7156\n",
      "    Val Loss: 0.5824, Val Acc: 0.6998\n",
      "Epoch 5:\n",
      "    Train Loss: 0.5626, Train Acc: 0.7145\n",
      "    Val Loss: 0.6089, Val Acc: 0.6895\n",
      "Test Loss: 0.6041, Test Acc: 0.6801\n"
     ]
    },
    {
     "data": {
      "image/png": "[encoded data removed]",
      "text/plain": [
       "<Figure size 1000x400 with 2 Axes>"
      ]
     },
     "metadata": {},
     "output_type": "display_data"
    }
   ],
   "source": [
    "# Define a custom dataset class\n",
    "class RTDataset(Dataset):\n",
    "    def __init__(self, dataset, vocab):\n",
    "        self.dataset = dataset\n",
    "        self.vocab = vocab\n",
    "        self.tokenizer = tokenizer\n",
    "        \n",
    "    def __len__(self):\n",
    "        return len(self.dataset)\n",
    "    \n",
    "    def __getitem__(self, idx):\n",
    "        text = self.dataset[idx]['text']\n",
    "        label = self.dataset[idx]['label']\n",
    "        tokens = self.tokenizer(text)\n",
    "        indices = [self.vocab.get(token, self.vocab['<unk>']) for token in tokens]\n",
    "        return torch.tensor(indices, dtype=torch.long), torch.tensor(label, dtype=torch.long)\n",
    "\n",
    "# Define a collate function for DataLoader\n",
    "def collate_fn(batch):\n",
    "    texts = [item[0] for item in batch]\n",
    "    labels = torch.tensor([item[1] for item in batch], dtype=torch.long)\n",
    "    lengths = torch.tensor([len(seq) for seq in texts], dtype=torch.long)\n",
    "    texts_padded = pad_sequence(texts, batch_first=True, padding_value=vocab['<pad>'])\n",
    "    return texts_padded, labels, lengths\n",
    "\n",
    "# Create datasets and dataloaders\n",
    "batch_size = 128\n",
    "\n",
    "train_data = RTDataset(train_dataset, vocab)\n",
    "valid_data = RTDataset(validation_dataset, vocab)\n",
    "test_data = RTDataset(test_dataset, vocab)\n",
    "\n",
    "train_loader = DataLoader(train_data, batch_size=batch_size, shuffle=True, collate_fn=collate_fn)\n",
    "valid_loader = DataLoader(valid_data, batch_size=batch_size, shuffle=False, collate_fn=collate_fn)\n",
    "test_loader = DataLoader(test_data, batch_size=batch_size, shuffle=False, collate_fn=collate_fn)\n",
    "\n",
    "# Define the RNN model\n",
    "class RNNModel(nn.Module):\n",
    "    def __init__(self, vocab_size, embedding_dim, hidden_dim, output_dim, embedding_matrix):\n",
    "        super(RNNModel, self).__init__()\n",
    "        self.embedding = nn.Embedding.from_pretrained(torch.FloatTensor(embedding_matrix), freeze=True)\n",
    "        self.rnn = nn.RNN(embedding_dim, hidden_dim, batch_first=True)\n",
    "        self.fc = nn.Linear(hidden_dim, output_dim)\n",
    "        \n",
    "    def forward(self, text, lengths):\n",
    "        embedded = self.embedding(text)\n",
    "        # Pack padded sequences\n",
    "        packed_embedded = nn.utils.rnn.pack_padded_sequence(embedded, lengths.cpu(), batch_first=True, enforce_sorted=False)\n",
    "        packed_output, hidden = self.rnn(packed_embedded)\n",
    "        # hidden shape: [num_layers * num_directions, batch_size, hidden_dim]\n",
    "        hidden = hidden[-1, :, :]  # Get the last layer's hidden state\n",
    "        output = self.fc(hidden)\n",
    "        return output\n",
    "\n",
    "# Instantiate the model, loss function, and optimizer\n",
    "hidden_dim = 384\n",
    "output_dim = 2  # Negative or Positive sentiment\n",
    "\n",
    "model = RNNModel(vocab_size, embedding_dim, hidden_dim, output_dim, embedding_matrix)\n",
    "criterion = nn.CrossEntropyLoss()\n",
    "optimizer = optim.Adam(model.parameters(), lr=0.0002815544305740635)\n",
    "\n",
    "# Lists to store loss and accuracy values\n",
    "train_losses = []\n",
    "train_accuracies = []\n",
    "valid_losses = []\n",
    "valid_accuracies = []\n",
    "\n",
    "# Training and evaluation functions\n",
    "def train(model, dataloader, optimizer, criterion):\n",
    "    model.train()\n",
    "    total_acc, total_loss = 0, 0\n",
    "    for texts, labels, lengths in dataloader:\n",
    "        optimizer.zero_grad()\n",
    "        outputs = model(texts, lengths)\n",
    "        loss = criterion(outputs, labels)\n",
    "        loss.backward()\n",
    "        optimizer.step()\n",
    "        total_acc += (outputs.argmax(1) == labels).sum().item()\n",
    "        total_loss += loss.item() * labels.size(0)\n",
    "    return total_acc / len(dataloader.dataset), total_loss / len(dataloader.dataset)\n",
    "\n",
    "def evaluate(model, dataloader, criterion):\n",
    "    model.eval()\n",
    "    total_acc, total_loss = 0, 0\n",
    "    with torch.no_grad():\n",
    "        for texts, labels, lengths in dataloader:\n",
    "            outputs = model(texts, lengths)\n",
    "            loss = criterion(outputs, labels)\n",
    "            total_acc += (outputs.argmax(1) == labels).sum().item()\n",
    "            total_loss += loss.item() * labels.size(0)\n",
    "    return total_acc / len(dataloader.dataset), total_loss / len(dataloader.dataset)\n",
    "\n",
    "# Training loop\n",
    "num_epochs = 5\n",
    "for epoch in range(num_epochs):\n",
    "    train_acc, train_loss = train(model, train_loader, optimizer, criterion)\n",
    "    valid_acc, valid_loss = evaluate(model, valid_loader, criterion)\n",
    "    \n",
    "    # Store the losses and accuracies\n",
    "    train_losses.append(train_loss)\n",
    "    train_accuracies.append(train_acc)\n",
    "    valid_losses.append(valid_loss)\n",
    "    valid_accuracies.append(valid_acc)\n",
    "    \n",
    "    print(f'Epoch {epoch + 1}:')\n",
    "    print(f'    Train Loss: {train_loss:.4f}, Train Acc: {train_acc:.4f}')\n",
    "    print(f'    Val Loss: {valid_loss:.4f}, Val Acc: {valid_acc:.4f}')\n",
    "\n",
    "# Evaluate on the test set\n",
    "test_acc, test_loss = evaluate(model, test_loader, criterion)\n",
    "print(f'Test Loss: {test_loss:.4f}, Test Acc: {test_acc:.4f}')\n",
    "\n",
    "# Plotting the training and validation loss\n",
    "plt.figure(figsize=(10, 4))\n",
    "plt.subplot(1, 2, 1)\n",
    "plt.plot(range(1, num_epochs + 1), train_losses, label='Training Loss')\n",
    "plt.plot(range(1, num_epochs + 1), valid_losses, label='Validation Loss')\n",
    "plt.xlabel('Epochs')\n",
    "plt.ylabel('Loss')\n",
    "plt.title('Loss over Epochs')\n",
    "plt.legend()\n",
    "\n",
    "# Plotting the training and validation accuracy\n",
    "plt.subplot(1, 2, 2)\n",
    "plt.plot(range(1, num_epochs + 1), train_accuracies, label='Training Accuracy')\n",
    "plt.plot(range(1, num_epochs + 1), valid_accuracies, label='Validation Accuracy')\n",
    "plt.xlabel('Epochs')\n",
    "plt.ylabel('Accuracy')\n",
    "plt.title('Accuracy over Epochs')\n",
    "plt.legend()\n",
    "\n",
    "plt.tight_layout()\n",
    "plt.show()"
   ]
  },
  {
   "cell_type": "code",
   "execution_count": 59,
   "metadata": {},
   "outputs": [
    {
     "name": "stderr",
     "output_type": "stream",
     "text": [
      "[I 2024-10-09 22:36:53,372] A new study created in memory with name: no-name-2a910463-0d3c-44cc-b36f-cf4ecc914fcb\n",
      "/var/folders/1q/4hfh5j_d715b0vm49lql6vl80000gn/T/ipykernel_64248/1095785462.py:6: FutureWarning: suggest_loguniform has been deprecated in v3.0.0. This feature will be removed in v6.0.0. See https://github.com/optuna/optuna/releases/tag/v3.0.0. Use suggest_float(..., log=True) instead.\n",
      "  lr = trial.suggest_loguniform('lr', 1e-4, 1e-1)\n",
      "[I 2024-10-09 22:37:13,632] Trial 0 finished with value: 0.5793997432903769 and parameters: {'hidden_dim': 448, 'bidirectional': True, 'lr': 0.00012536638779069817, 'batch_size': 32, 'optimizer': 'Adam'}. Best is trial 0 with value: 0.5793997432903769.\n",
      "[I 2024-10-09 22:37:26,143] Trial 1 finished with value: 0.687107674176429 and parameters: {'hidden_dim': 384, 'bidirectional': True, 'lr': 0.0023294234839928638, 'batch_size': 64, 'optimizer': 'SGD'}. Best is trial 0 with value: 0.5793997432903769.\n",
      "[I 2024-10-09 22:37:35,683] Trial 2 finished with value: 1.7512547410675106 and parameters: {'hidden_dim': 256, 'bidirectional': True, 'lr': 0.08970494211396884, 'batch_size': 64, 'optimizer': 'Adam'}. Best is trial 0 with value: 0.5793997432903769.\n",
      "[I 2024-10-09 22:37:54,359] Trial 3 finished with value: 0.6237411528098874 and parameters: {'hidden_dim': 512, 'bidirectional': True, 'lr': 0.009291736273626396, 'batch_size': 64, 'optimizer': 'SGD'}. Best is trial 0 with value: 0.5793997432903769.\n",
      "[I 2024-10-09 22:38:09,996] Trial 4 finished with value: 0.5822502781146015 and parameters: {'hidden_dim': 448, 'bidirectional': False, 'lr': 0.00018374989083519864, 'batch_size': 128, 'optimizer': 'Adam'}. Best is trial 0 with value: 0.5793997432903769.\n",
      "[I 2024-10-09 22:38:12,845] Trial 5 pruned. \n",
      "[I 2024-10-09 22:38:20,577] Trial 6 finished with value: 0.6381273965227223 and parameters: {'hidden_dim': 192, 'bidirectional': True, 'lr': 0.0038704656060211872, 'batch_size': 64, 'optimizer': 'Adam'}. Best is trial 0 with value: 0.5793997432903769.\n",
      "[I 2024-10-09 22:38:21,688] Trial 7 pruned. \n",
      "[I 2024-10-09 22:38:24,378] Trial 8 pruned. \n",
      "[I 2024-10-09 22:38:25,674] Trial 9 pruned. \n",
      "[I 2024-10-09 22:38:28,076] Trial 10 pruned. \n",
      "[I 2024-10-09 22:38:51,019] Trial 11 finished with value: 0.6116490695087369 and parameters: {'hidden_dim': 512, 'bidirectional': False, 'lr': 0.00011036228415318006, 'batch_size': 32, 'optimizer': 'Adam'}. Best is trial 0 with value: 0.5793997432903769.\n",
      "[I 2024-10-09 22:39:06,478] Trial 12 finished with value: 0.5865492915234914 and parameters: {'hidden_dim': 448, 'bidirectional': False, 'lr': 0.0004657438114323023, 'batch_size': 128, 'optimizer': 'Adam'}. Best is trial 0 with value: 0.5793997432903769.\n",
      "[I 2024-10-09 22:39:22,620] Trial 13 finished with value: 0.5908195299234444 and parameters: {'hidden_dim': 384, 'bidirectional': False, 'lr': 0.0007290039632187246, 'batch_size': 32, 'optimizer': 'Adam'}. Best is trial 0 with value: 0.5793997432903769.\n",
      "[I 2024-10-09 22:39:37,307] Trial 14 finished with value: 0.6444388858372901 and parameters: {'hidden_dim': 448, 'bidirectional': True, 'lr': 0.0004121816512499812, 'batch_size': 128, 'optimizer': 'Adam'}. Best is trial 0 with value: 0.5793997432903769.\n",
      "[I 2024-10-09 22:39:51,435] Trial 15 finished with value: 0.6068086587801212 and parameters: {'hidden_dim': 320, 'bidirectional': False, 'lr': 0.00022318227126579538, 'batch_size': 32, 'optimizer': 'Adam'}. Best is trial 0 with value: 0.5793997432903769.\n",
      "[I 2024-10-09 22:39:55,725] Trial 16 pruned. \n",
      "[I 2024-10-09 22:39:59,854] Trial 17 pruned. \n",
      "[I 2024-10-09 22:40:02,096] Trial 18 pruned. \n",
      "[I 2024-10-09 22:40:14,092] Trial 19 finished with value: 0.5759840036198972 and parameters: {'hidden_dim': 384, 'bidirectional': True, 'lr': 0.0002815544305740635, 'batch_size': 128, 'optimizer': 'Adam'}. Best is trial 19 with value: 0.5759840036198972.\n"
     ]
    },
    {
     "name": "stdout",
     "output_type": "stream",
     "text": [
      "Number of finished trials: 20\n",
      "Best trial:\n",
      "  Value: 0.5760\n",
      "  Params:\n",
      "    hidden_dim: 384\n",
      "    bidirectional: True\n",
      "    lr: 0.0002815544305740635\n",
      "    batch_size: 128\n",
      "    optimizer: Adam\n"
     ]
    }
   ],
   "source": [
    "# Define the objective function for Optuna\n",
    "def objective(trial):\n",
    "    # Suggest hyperparameters\n",
    "    hidden_dim = trial.suggest_int('hidden_dim', 128, 512, step=64)\n",
    "    bidirectional = trial.suggest_categorical('bidirectional', [False, True])\n",
    "    lr = trial.suggest_loguniform('lr', 1e-4, 1e-1)\n",
    "    batch_size = trial.suggest_categorical('batch_size', [32, 64, 128])\n",
    "\n",
    "    # Create datasets and dataloaders with the suggested batch size\n",
    "    train_data = RTDataset(train_dataset, vocab)\n",
    "    valid_data = RTDataset(validation_dataset, vocab)\n",
    "\n",
    "    train_loader = DataLoader(train_data, batch_size=batch_size, shuffle=True, collate_fn=collate_fn)\n",
    "    valid_loader = DataLoader(valid_data, batch_size=batch_size, shuffle=False, collate_fn=collate_fn)\n",
    "\n",
    "    # Initialize the model, criterion, and optimizer with the suggested hyperparameters\n",
    "    output_dim = 2  # Negative or Positive sentiment\n",
    "    model = RNNModel(vocab_size, embedding_dim, hidden_dim, output_dim, embedding_matrix)\n",
    "    device = torch.device('cuda' if torch.cuda.is_available() else 'cpu')\n",
    "    model.to(device)\n",
    "    criterion = nn.CrossEntropyLoss()\n",
    "    optimizer_name = trial.suggest_categorical('optimizer', ['Adam', 'SGD'])\n",
    "    if optimizer_name == 'Adam':\n",
    "        optimizer = optim.Adam(model.parameters(), lr=lr)\n",
    "    else:\n",
    "        optimizer = optim.SGD(model.parameters(), lr=lr)\n",
    "\n",
    "    # Training loop\n",
    "    num_epochs = 5\n",
    "    for epoch in range(num_epochs):\n",
    "        train_acc, train_loss = train(model, train_loader, optimizer, criterion)\n",
    "        valid_acc, valid_loss = evaluate(model, valid_loader, criterion)\n",
    "        # Optuna requires a numerical value to minimize (or maximize)\n",
    "        trial.report(valid_loss, epoch)\n",
    "        # Handle pruning (optional)\n",
    "        if trial.should_prune():\n",
    "            raise optuna.exceptions.TrialPruned()\n",
    "\n",
    "    return valid_loss  # We aim to minimize validation loss\n",
    "\n",
    "# Run the optimization\n",
    "study = optuna.create_study(direction='minimize')\n",
    "study.optimize(objective, n_trials=20)\n",
    "\n",
    "print('Number of finished trials:', len(study.trials))\n",
    "print('Best trial:')\n",
    "trial = study.best_trial\n",
    "\n",
    "print('  Value: {:.4f}'.format(trial.value))\n",
    "print('  Params:')\n",
    "for key, value in trial.params.items():\n",
    "    print('    {}: {}'.format(key, value))\n"
   ]
  }
 ],
 "metadata": {
  "kernelspec": {
   "display_name": ".venv",
   "language": "python",
   "name": "python3"
  },
  "language_info": {
   "codemirror_mode": {
    "name": "ipython",
    "version": 3
   },
   "file_extension": ".py",
   "mimetype": "text/x-python",
   "name": "python",
   "nbconvert_exporter": "python",
   "pygments_lexer": "ipython3",
   "version": "3.9.6"
  }
 },
 "nbformat": 4,
 "nbformat_minor": 2
}
